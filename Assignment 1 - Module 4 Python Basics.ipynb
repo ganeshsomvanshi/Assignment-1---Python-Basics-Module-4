{
 "cells": [
  {
   "cell_type": "markdown",
   "id": "812d2294-e608-4652-9d3b-ccfe7165ec6f",
   "metadata": {},
   "source": [
    "## Assignment 1 - Module 4 Python Basics"
   ]
  },
  {
   "cell_type": "code",
   "execution_count": null,
   "id": "9bd465ec-8001-4c48-8ac0-074221b79a83",
   "metadata": {},
   "outputs": [],
   "source": [
    "#Q1 Explain the key features of Python that make it a popular choice for programmers\n",
    "\n",
    "# Answer  :\n",
    "'''\n",
    "The Key features of python that make it a popular choice is as follows :\n",
    "- Readability\n",
    "- Usability\n",
    "- free & open source software\n",
    "- Includes wide range of libraries\n",
    "- It is dynamically typed language i.e. no need to define variable types while creating the variables\n",
    "- It can run on any Operating systems such as WINDOWS, LINUX, MAC, etc.\n",
    "- It can be use for wide applications such as web development, data analytics, data science, data visualization, app development, \n",
    "  Python is also a good choice for process automation as well. Also, as it can access databases using SQL which can be further use \n",
    "  to store logs of the BOT runs/activities\n",
    "\n",
    "'''"
   ]
  },
  {
   "cell_type": "code",
   "execution_count": null,
   "id": "92cd2f30-16b2-4787-bd4e-0affa98f1301",
   "metadata": {},
   "outputs": [],
   "source": [
    "\n",
    "\n"
   ]
  },
  {
   "cell_type": "code",
   "execution_count": 1,
   "id": "cc352646-2c82-47f5-8f93-19a20221b6cc",
   "metadata": {},
   "outputs": [
    {
     "data": {
      "text/plain": [
       "\"\\nPython keywords are special purpose reserved words which can be use for specific purposes.\\n**Note : Python keywords cannot be used as variable names **\\nExample : 1) print : to print any variable(of any type- string/integer/float/boolean, etc.), to print any statement, to print any number, print() is used.\\n2)int : 'int' is the short word for integer datatype. It can be also use to convert a number which is in string format to integer datatype\\n3)str : 'str' is the short word for string datatype. It can be aslo use to convert a number into string.\\n4)break : break word is use to exit the loop if any special condition mentioned in the loop is met.\\n5)continue : continue is use to skip the loop if any special condition mentioned in the loop is met.\\n\\nApart from these five there are many keywords. Below is the list of keywords in Python :\\n\\nFalse               class               from                or\\nNone                continue            global              pass\\nTrue                def                 if                  raise\\nand                 del                 import              return\\nas                  elif                in                  try\\nassert              else                is                  while\\nasync               except              lambda              with\\nawait               finally             nonlocal            yield\\nbreak               for                 not \\n\""
      ]
     },
     "execution_count": 1,
     "metadata": {},
     "output_type": "execute_result"
    }
   ],
   "source": [
    "#Q2 Describe the role of predefined keywords in Python and provide examples of how they are used in a program\n",
    "\n",
    "\n",
    "#Answer :\n",
    "'''\n",
    "Python keywords are special purpose reserved words which can be use for specific purposes.\n",
    "**Note : Python keywords cannot be used as variable names **\n",
    "Example : \n",
    "1)break : break word is use to exit the loop if any special condition mentioned in the loop is met.\n",
    "2)continue : continue is use to skip the loop if any special condition mentioned in the loop is met.\n",
    "3)or : or is used to check multiple conditions in conditional statements.\n",
    "4)in : 'in' is used to check if any character is present in string/ to check if any value is present in list, etc.'in' is a type of membership operator\n",
    "5)for : for is used in for loop.\n",
    "Apart from these five there are many keywords. Below is the list of keywords in Python :\n",
    "\n",
    "False               class               from                or\n",
    "None                continue            global              pass\n",
    "True                def                 if                  raise\n",
    "and                 del                 import              return\n",
    "as                  elif                in                  try\n",
    "assert              else                is                  while\n",
    "async               except              lambda              with\n",
    "await               finally             nonlocal            yield\n",
    "break               for                 not \n",
    "\n",
    "examples are mentioned in the below box\n",
    "'''\n",
    "\n"
   ]
  },
  {
   "cell_type": "code",
   "execution_count": 3,
   "id": "64e431eb-a369-4f0a-904d-90f28abe2b60",
   "metadata": {},
   "outputs": [
    {
     "name": "stdout",
     "output_type": "stream",
     "text": [
      "1   iteration\n"
     ]
    }
   ],
   "source": [
    "# for,in & break example :\n",
    "\n",
    "i=1\n",
    "for i in range(1,10):\n",
    "    if i==2:\n",
    "        break\n",
    "    print(f\"{i}   iteration\")\n",
    "    "
   ]
  },
  {
   "cell_type": "code",
   "execution_count": 6,
   "id": "c43f8374-7d76-4d26-b74b-462ffcb169c4",
   "metadata": {},
   "outputs": [
    {
     "name": "stdout",
     "output_type": "stream",
     "text": [
      "1\n",
      "3\n"
     ]
    }
   ],
   "source": [
    "#continue & in example\n",
    "\n",
    "i=1\n",
    "for i in range(1,4):\n",
    "    if i==2:\n",
    "        continue\n",
    "    print(i)"
   ]
  },
  {
   "cell_type": "code",
   "execution_count": 9,
   "id": "b4df78b8-6c45-4995-bb15-1eeb3c71075c",
   "metadata": {},
   "outputs": [
    {
     "name": "stdout",
     "output_type": "stream",
     "text": [
      "42 - is divisible by 7 or 8\n"
     ]
    }
   ],
   "source": [
    "#or example\n",
    "\n",
    "i=42\n",
    "if (i%7==0) or (i%8==0) :\n",
    "    print(f\"{i} - is divisible by 7 or 8\")"
   ]
  },
  {
   "cell_type": "code",
   "execution_count": null,
   "id": "aa80c6e5-1aa8-45fd-b03d-17ea86748054",
   "metadata": {},
   "outputs": [],
   "source": [
    "\n"
   ]
  },
  {
   "cell_type": "code",
   "execution_count": 10,
   "id": "171631a6-1ba3-4ae2-8919-29985f1b6a1f",
   "metadata": {},
   "outputs": [],
   "source": [
    "#Q3 Compare and contrast mutable and immutable objects in Python with examples.\n",
    "\n",
    "\n",
    "# Answer :\n",
    "''' Mutable objects in python are the objects which can be modified by using index.\n",
    "    Immutable objects in python are the objects which cannot be modified once created using index.\n",
    "    Examples of mutable objects are : lists, dictionaries, etc.\n",
    "    Examples of immutable objects are : Strings, tuples, numbers, etc.\n",
    "    Detailed explanation with example is as follow:'''\n",
    "\n",
    "name =\"Ganesh\"            #declaring a string\n",
    "a=[\"Ganesh\",1,2,3,\"SOMVANSHI\"]   #declaring a list\n"
   ]
  },
  {
   "cell_type": "code",
   "execution_count": 13,
   "id": "e041d557-8bf8-4bf3-8d6f-0e4043247eaf",
   "metadata": {},
   "outputs": [
    {
     "name": "stdout",
     "output_type": "stream",
     "text": [
      "['ABC', 1, 2, 3, 'SOMVANSHI']\n"
     ]
    }
   ],
   "source": [
    "a[0]=\"ABC\"    #first element in list 'a' i.e. \"Ganesh\" will replace by \"ABC\"\n",
    "print(a)\n"
   ]
  },
  {
   "cell_type": "code",
   "execution_count": 14,
   "id": "e4b6994a-0a91-4eff-8886-67f6d2d90e8b",
   "metadata": {},
   "outputs": [
    {
     "ename": "TypeError",
     "evalue": "'str' object does not support item assignment",
     "output_type": "error",
     "traceback": [
      "\u001b[0;31m---------------------------------------------------------------------------\u001b[0m",
      "\u001b[0;31mTypeError\u001b[0m                                 Traceback (most recent call last)",
      "Cell \u001b[0;32mIn[14], line 1\u001b[0m\n\u001b[0;32m----> 1\u001b[0m \u001b[43mname\u001b[49m\u001b[43m[\u001b[49m\u001b[38;5;241;43m0\u001b[39;49m\u001b[43m]\u001b[49m \u001b[38;5;241m=\u001b[39m \u001b[38;5;124m\"\u001b[39m\u001b[38;5;124mh\u001b[39m\u001b[38;5;124m\"\u001b[39m  \u001b[38;5;66;03m# trying to replace a first character in a string using index will give an error as it is immutable.\u001b[39;00m\n\u001b[1;32m      2\u001b[0m               \u001b[38;5;66;03m# However, there is another method through which a substring in a string can be replaced using replace function\u001b[39;00m\n",
      "\u001b[0;31mTypeError\u001b[0m: 'str' object does not support item assignment"
     ]
    }
   ],
   "source": [
    "name[0] = \"h\"  # trying to replace a first character in a string using index will give an error as it is immutable.\n",
    "              # However, there is another method through which a substring in a string can be replaced using replace function\n",
    "    "
   ]
  },
  {
   "cell_type": "code",
   "execution_count": null,
   "id": "300bf0e5-d1bc-4670-9931-239a4baadd5c",
   "metadata": {},
   "outputs": [],
   "source": [
    "\n",
    "\n",
    "\n",
    "\n",
    "\n"
   ]
  },
  {
   "cell_type": "code",
   "execution_count": null,
   "id": "0a091a9a-fa86-4650-b1a3-a09a48a26af9",
   "metadata": {},
   "outputs": [],
   "source": [
    "#Q4  Discuss the different types of operators in Python and provide examples of how they are used.\n",
    "\n",
    "\n",
    "#Answer :\n",
    "\n",
    "\n",
    "'''\n",
    "There are multiple type of operators in python :\n",
    "A] Arithmatic operators : It is used to do all mathematical operations. Examples of arithmetic operators are +,-,*,/ which is nothing but addition,subtractio,multiplication,division.\n",
    "                          Apart from these four there is '%' modulo operators which gives the reminder, '**' is raised to operator used to raise power.\n",
    "                          '//' floor operator used to get nearby number of a float  e.g. 4//3==>1\n",
    "B]Comparison operators : Comparison operators are used to compare the values. Examples of comparison operators are : <,>,<=,>= which is nothing but less than, greater than, less than or equal to, greater than or equal to.\n",
    "                         '==' is used to compare if the two values are equal or not. '!=' is not equal to operator is used to check if the values doesn't match.\n",
    "C]Membership operators : Membersship operator checks if the character or substring is a part of string. It can also be used to check if the member is a part of list or not.\n",
    "                         Example of membership operator is 'in'.\n",
    "D]Identity operators : It checks if the location of two objects are same or not. Example of identity operator is 'is'.\n",
    "\n",
    "E] Bitwise operators : These operators are used to do operations at bit level, manipulating individual bits within integer.\n",
    "                       Examples of bitwise operators :\n",
    "                                a) &   -  And operator\n",
    "                                b) |   -  Or operator\n",
    "                                c) ~   -  negation operator\n",
    "                                d) ^   -  XOR operator\n",
    "                                e) <<  - left shift operator\n",
    "                                f) >>  - right shift operator\n",
    "\n",
    "Examples of all the above mentioned operators are as follows :\n"
   ]
  },
  {
   "cell_type": "code",
   "execution_count": 15,
   "id": "7308ebef-d955-45bc-afd2-818f3b1d90b6",
   "metadata": {},
   "outputs": [
    {
     "name": "stdout",
     "output_type": "stream",
     "text": [
      "13\n",
      "1\n",
      "42\n",
      "1.1666666666666667\n",
      "6\n",
      "0\n",
      "True\n",
      "True\n",
      "True\n",
      "6\n",
      "7\n",
      "-8\n",
      "1\n",
      "56\n",
      "10\n"
     ]
    }
   ],
   "source": [
    "a=7\n",
    "b=6\n",
    "print(a+b)  # addition\n",
    "print(a-b)  # subtraction\n",
    "print(a*b)  # multiplication\n",
    "print(a/b)  # division\n",
    "print(b%a)  # modulo - gives reminder\n",
    "print(b//a) # floor operator\n",
    "print(a>=b) #comparison operator - returns boolean output\n",
    "\n",
    "s=\"ganesh\"\n",
    "print(\"g\" in s) # membership operator - returns boolean output\n",
    "c=1\n",
    "d=c\n",
    "print(c is d) #idemtity operator - returns boolean output\n",
    "\n",
    "print(a&b) #bitwise and operator\n",
    "print(a|b) #bitwise or operator\n",
    "print(~a)  #bitwise negation operator\n",
    "print(a^b) #bitwise XOR operator\n",
    "print(7<<3) #left shift operator\n",
    "print(85>>3) #right shift operator\n"
   ]
  },
  {
   "cell_type": "code",
   "execution_count": null,
   "id": "375b3546-253d-47db-bfe2-fc6d6df79ea4",
   "metadata": {},
   "outputs": [],
   "source": [
    "\n",
    "\n",
    "\n",
    "\n",
    "\n",
    "\n",
    "\n"
   ]
  },
  {
   "cell_type": "code",
   "execution_count": null,
   "id": "e802d519-c9e6-45f2-9c16-5be0d1f76ff0",
   "metadata": {},
   "outputs": [],
   "source": [
    "# Q5 Explain the concept of type casting in Python with examples\n",
    "\n",
    "\n",
    "#Answer :\n",
    "'''\n",
    "Typecasting is basically a process to convert one form of datatype into another. One of the major use case of typecasting is when an input is taken in\n",
    "the form of number from user, the number is stored with string type. So to do required operations on the input provided the string should be converted \n",
    "into number. So to convert string to number the function int() is used. str() is used to convert the datatype into string & float() is used to convert \n",
    "the datatype into float number i.e. decimal value. However, it should be taken as a note that int() & float() will convert the strings into datatypes \n",
    "only when the string contains only munerical values.\n",
    "Example for the typecasting is as follows :\n"
   ]
  },
  {
   "cell_type": "code",
   "execution_count": 6,
   "id": "21ac0c36-b72f-49fd-bd66-ead4bd769f8a",
   "metadata": {},
   "outputs": [
    {
     "name": "stdin",
     "output_type": "stream",
     "text": [
      "Enter a number 6\n"
     ]
    },
    {
     "name": "stdout",
     "output_type": "stream",
     "text": [
      "6\n",
      "<class 'str'>\n",
      "<class 'int'>\n",
      "type of 66.5 is <class 'float'>\n",
      "type of 66.5 after converting in string is <class 'str'>\n"
     ]
    }
   ],
   "source": [
    "# Example of Typecasting\n",
    "a=input(\"Enter a number\")\n",
    "print(a)\n",
    "print(type(a))\n",
    "\n",
    "#converting the number in int form\n",
    "a=int(a)               #Similarly float() is used to convert the string in float\n",
    "print(type(a))\n",
    "\n",
    "#converting a number into string\n",
    "b=66.5\n",
    "print(f\"type of {b} is {type(b)}\")\n",
    "\n",
    "b=str(b)\n",
    "print(f\"type of {b} after converting in string is {type(b)}\")\n"
   ]
  },
  {
   "cell_type": "code",
   "execution_count": null,
   "id": "a5e40e66-4e8b-4fbf-b000-0379a48774c2",
   "metadata": {},
   "outputs": [],
   "source": [
    "\n",
    "\n",
    "\n"
   ]
  },
  {
   "cell_type": "code",
   "execution_count": null,
   "id": "256b24eb-7403-4ea9-a5cc-a07de7348ebd",
   "metadata": {},
   "outputs": [],
   "source": [
    "#Q6 How do conditional statements work in Python? Illustrate with examples.\n",
    "\n",
    "#Answer :\n",
    "''' Conditional statements in python are the statement through which one can checks few conditions & based on the conditions the desired output\n",
    "will be provided as per reuirements.\n",
    "1) If Statement : If statement is used to check if a single condition on the variable( it might be of any datatype is met or not)\n",
    "                  Syntax: If (Condition Check - Output in boolean form) :\n",
    "                                       block to be run\n",
    "               a good example to check if the number is greater than zero.\n",
    "2) If-Else Statement : If-Else statement is used to check a condition & based on the output it will have another option of result.\n",
    "                       Syntax : If (condition):\n",
    "                                       block1\n",
    "                                 Else :\n",
    "                                       block2\n",
    "                      In the above scenario block1 will be executed if the condition is true. Otherwise, if the condition becomes false then block2 will be executed\n",
    "               a good example to check if the number is divisible by 2 or not.\n",
    "3)If-Elif-Else : Elif statement are used to check multiple conditions & provide the desired output.\n",
    "                 Syntax :     If condition1:\n",
    "                                   block1\n",
    "                              elif condition2:\n",
    "                                   block2\n",
    "                                   .\n",
    "                                   .\n",
    "                                   .\n",
    "                              elif condition:\n",
    "                                   blockn\n",
    "                               else :\n",
    "                               Finalblock\n",
    "              a simple but good example of if-elif-else statement is to check if the number is greater than 0, less than 0, or it is 0.\n",
    "              \n",
    " Further, for each conditional statement, we can use combinations of logical operators/Mathematical operators to check conditions.\n",
    " Examples of the above scenarios are as follows:\n",
    " "
   ]
  },
  {
   "cell_type": "code",
   "execution_count": 11,
   "id": "480dd8b4-9cd1-4954-a65e-212b882e4b15",
   "metadata": {},
   "outputs": [
    {
     "name": "stdout",
     "output_type": "stream",
     "text": [
      "5 is greater than 0\n",
      "5 is not divisible by 2\n",
      "5 is greater than zero\n"
     ]
    }
   ],
   "source": [
    "#example of if statement\n",
    "i=5\n",
    "if i>0:\n",
    "    print(f\"{i} is greater than 0\")\n",
    "    \n",
    "#example of if else statement\n",
    "if i%2==0:\n",
    "    print(f\"{i} is divisible by 2\")\n",
    "else:\n",
    "    print(f\"{i} is not divisible by 2\")\n",
    " \n",
    "# example of if-elif-else statement\n",
    "if i>0:\n",
    "    print(f\"{i} is greater than zero\")\n",
    "elif i<0:\n",
    "    print(f\"{i} is less than zero\")\n",
    "else:\n",
    "    print(\"The number is zero\")"
   ]
  },
  {
   "cell_type": "code",
   "execution_count": null,
   "id": "ad12fa99-b9b9-4e64-bcbc-20a5e908156f",
   "metadata": {},
   "outputs": [],
   "source": [
    "\n",
    "\n",
    "\n",
    "\n"
   ]
  },
  {
   "cell_type": "code",
   "execution_count": null,
   "id": "5a3d8dc4-d8db-4313-afdb-2c699dbda93f",
   "metadata": {},
   "outputs": [],
   "source": [
    "#Q7 Describe the different types of loops in Python and their use cases with examples\n",
    "\n",
    "#Answer :\n",
    "'''\n",
    "Loops are used to repeat a series of steps or a piece of code until a specific condition is met.\n",
    "There are two types of loops in python :\n",
    "1) for loop     2) While Loop\n",
    "1) For loop :\n",
    "   for loop is used to iterate on a known number of range. i.e. in case if you know how many times the action should be performed then for loop is used.\n",
    "   for example if you want to print all even natural numbers less than 40.(code is written in the below box). \n",
    "   Further for loop can be used with conditional statements for more advance examples. \n",
    "\n",
    "2) While loop :\n",
    "   While loop is used to iterate unknown number of times until a specific condition is met.\n",
    "   Example of while is written in the below box.\n",
    "   Further, while loop can be used with conditional statement for more advance problems. \n",
    "   \n",
    "   "
   ]
  },
  {
   "cell_type": "code",
   "execution_count": 19,
   "id": "d3a5dde0-31fe-4a37-a50c-eef7ad2eef24",
   "metadata": {},
   "outputs": [
    {
     "name": "stdout",
     "output_type": "stream",
     "text": [
      "2,4,6,8,10,12,14,16,18,20,22,24,26,28,30,32,34,36,38,"
     ]
    },
    {
     "name": "stdin",
     "output_type": "stream",
     "text": [
      "Enter a number 8\n"
     ]
    },
    {
     "name": "stdout",
     "output_type": "stream",
     "text": [
      "*\n",
      "**\n",
      "***\n",
      "****\n",
      "*****\n",
      "******\n",
      "*******\n",
      "********\n"
     ]
    }
   ],
   "source": [
    "#for loop example (to print even natural numbers) :\n",
    "for i in range(1,40):\n",
    "    if i%2==0:\n",
    "        print(i, end=\",\")\n",
    "    \n",
    "    \n",
    "# another example of for loop to print triangle of stars\n",
    "num=input(\"Enter a number\")\n",
    "if num.isdigit():\n",
    "    num=int(num)\n",
    "    for i in range(1,num+1):\n",
    "        j=1\n",
    "        for j in range(1,i+1):\n",
    "            print(\"*\",end=\"\")\n",
    "        print()    \n",
    "else:\n",
    "    print(\"Enter only Integer\")\n",
    "    \n"
   ]
  },
  {
   "cell_type": "code",
   "execution_count": 3,
   "id": "a1e723be-58d5-4f47-89e3-6a2819c7ba08",
   "metadata": {},
   "outputs": [
    {
     "name": "stdout",
     "output_type": "stream",
     "text": [
      "2,4,6,8,10,12,14,16,18,20,22,24,26,28,30,32,34,36,38,"
     ]
    },
    {
     "name": "stdin",
     "output_type": "stream",
     "text": [
      "Enter a number g\n"
     ]
    },
    {
     "name": "stdout",
     "output_type": "stream",
     "text": [
      "Enter only Integer\n"
     ]
    }
   ],
   "source": [
    "#While loop example (to print even natural numbers less than 40):\n",
    "\n",
    "i=1\n",
    "while i<40:\n",
    "    if (i%2)==0:\n",
    "        print(i,end=\",\")\n",
    "     \n",
    "    i=i+1   \n",
    "\n",
    "#While Loop to print triangle with *\n",
    "num=input(\"Enter a number\")\n",
    "a=1\n",
    "if num.isdigit():\n",
    "    num=int(num)\n",
    "    while a<=num:\n",
    "        b=1\n",
    "        while b<=a:\n",
    "            print(\"*\",end=\"\")\n",
    "            b=b+1\n",
    "        print()\n",
    "        a=a+1\n",
    "else:\n",
    "    print(\"Enter only Integer\")    "
   ]
  },
  {
   "cell_type": "code",
   "execution_count": null,
   "id": "dbdbf4af-3dbf-48f5-9f92-108d899bb44d",
   "metadata": {},
   "outputs": [],
   "source": []
  }
 ],
 "metadata": {
  "kernelspec": {
   "display_name": "Python 3 (ipykernel)",
   "language": "python",
   "name": "python3"
  },
  "language_info": {
   "codemirror_mode": {
    "name": "ipython",
    "version": 3
   },
   "file_extension": ".py",
   "mimetype": "text/x-python",
   "name": "python",
   "nbconvert_exporter": "python",
   "pygments_lexer": "ipython3",
   "version": "3.10.8"
  }
 },
 "nbformat": 4,
 "nbformat_minor": 5
}
